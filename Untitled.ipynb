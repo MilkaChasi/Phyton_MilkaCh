{
 "cells": [
  {
   "cell_type": "markdown",
   "id": "669ce347-6283-49c8-8051-c92d3f90f026",
   "metadata": {},
   "source": [
    "# Tarea"
   ]
  },
  {
   "cell_type": "markdown",
   "id": "6305e61b-93e9-4337-bc93-8ff257946a25",
   "metadata": {},
   "source": [
    "Milka Ch."
   ]
  },
  {
   "cell_type": "code",
   "execution_count": 1,
   "id": "ef701a8c-4580-4a7f-bcbb-ea7e5b41988f",
   "metadata": {},
   "outputs": [],
   "source": [
    "import numpy as np"
   ]
  },
  {
   "cell_type": "code",
   "execution_count": 3,
   "id": "d301da9c-2b81-4b49-9f90-5e5857262e74",
   "metadata": {},
   "outputs": [],
   "source": [
    "Nombre = \"Milka Chasi\""
   ]
  },
  {
   "cell_type": "code",
   "execution_count": 4,
   "id": "b79bc7e8-afd2-40de-ba6d-5b4735daf6ad",
   "metadata": {},
   "outputs": [],
   "source": [
    "Edad = 25"
   ]
  },
  {
   "cell_type": "code",
   "execution_count": 5,
   "id": "feae0cad-7608-43d7-b69e-716c3aaede15",
   "metadata": {},
   "outputs": [
    {
     "data": {
      "text/plain": [
       "'Mi nombre es Milka Chasi'"
      ]
     },
     "execution_count": 5,
     "metadata": {},
     "output_type": "execute_result"
    }
   ],
   "source": [
    "f'Mi nombre es {Nombre}'"
   ]
  },
  {
   "cell_type": "code",
   "execution_count": 13,
   "id": "2ce37f2d-2ba4-4261-a500-63f90f723ba5",
   "metadata": {},
   "outputs": [
    {
     "data": {
      "text/plain": [
       "'Mi edad es 25 años'"
      ]
     },
     "execution_count": 13,
     "metadata": {},
     "output_type": "execute_result"
    }
   ],
   "source": [
    "f'Mi edad es {Edad} años'"
   ]
  },
  {
   "cell_type": "code",
   "execution_count": 14,
   "id": "708df460-462c-46fe-a0d0-6752a4884a48",
   "metadata": {},
   "outputs": [],
   "source": [
    "Frase_completa = f'Mi nombre es {Nombre} y tengo {Edad} años'"
   ]
  },
  {
   "cell_type": "code",
   "execution_count": 17,
   "id": "62625d11-de94-412b-ba34-13a0b9babf6b",
   "metadata": {},
   "outputs": [
    {
     "data": {
      "text/plain": [
       "'Mi nombre es Milka Chasi y tengo 25 años'"
      ]
     },
     "execution_count": 17,
     "metadata": {},
     "output_type": "execute_result"
    }
   ],
   "source": [
    "Frase_completa # como variable"
   ]
  },
  {
   "cell_type": "code",
   "execution_count": 16,
   "id": "581c4185-d142-4f24-ac82-627d02587a94",
   "metadata": {},
   "outputs": [
    {
     "data": {
      "text/plain": [
       "'Mi nombre es Milka Chasi y tengo 25 años'"
      ]
     },
     "execution_count": 16,
     "metadata": {},
     "output_type": "execute_result"
    }
   ],
   "source": [
    "f'Mi nombre es {Nombre} y tengo {Edad} años' #sin asignarlo a una variable"
   ]
  }
 ],
 "metadata": {
  "kernelspec": {
   "display_name": "Python 3 (ipykernel)",
   "language": "python",
   "name": "python3"
  },
  "language_info": {
   "codemirror_mode": {
    "name": "ipython",
    "version": 3
   },
   "file_extension": ".py",
   "mimetype": "text/x-python",
   "name": "python",
   "nbconvert_exporter": "python",
   "pygments_lexer": "ipython3",
   "version": "3.11.5"
  }
 },
 "nbformat": 4,
 "nbformat_minor": 5
}
